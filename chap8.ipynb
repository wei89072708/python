{
 "cells": [
  {
   "cell_type": "markdown",
   "metadata": {},
   "source": [
    "### 傳統的寫法"
   ]
  },
  {
   "cell_type": "code",
   "execution_count": 2,
   "metadata": {},
   "outputs": [
    {
     "name": "stdout",
     "output_type": "stream",
     "text": [
      "請輸入圓的半徑: 10\n",
      "圓的面積為 314.1592653589793\n"
     ]
    }
   ],
   "source": [
    "import math \n",
    "radius = int(input(\"請輸入圓的半徑: \"))\n",
    "print(\"圓的面積為\",radius*radius*math.pi)"
   ]
  },
  {
   "cell_type": "markdown",
   "metadata": {},
   "source": [
    "### 面積計算函數"
   ]
  },
  {
   "cell_type": "code",
   "execution_count": 3,
   "metadata": {},
   "outputs": [
    {
     "name": "stdout",
     "output_type": "stream",
     "text": [
      "314.1592653589793\n"
     ]
    }
   ],
   "source": [
    "#自訂函數\n",
    "import math\n",
    "def circle_area(radius):\n",
    "    area = math.pi*radius*radius\n",
    "    return area\n",
    "#呼叫自訂函數\n",
    "print(circle_area(10))"
   ]
  },
  {
   "cell_type": "code",
   "execution_count": 4,
   "metadata": {},
   "outputs": [
    {
     "name": "stdout",
     "output_type": "stream",
     "text": [
      "314.1592653589793\n",
      "62.83185307179586\n"
     ]
    }
   ],
   "source": [
    "#定義一個可以記換面積 以及周長的函數\n",
    "import math \n",
    "def circle(radius, area = True):\n",
    "    circle_area = math.pi * radius*radius\n",
    "    circle_circum = 2*radius*math.pi\n",
    "    if area ==True:\n",
    "        return circle_area\n",
    "    else:\n",
    "        return circle_circum\n",
    "#呼叫函數\n",
    "print(circle(10)) #傳回圓面積\n",
    "print(circle(10, False)) #傳回周長"
   ]
  },
  {
   "cell_type": "code",
   "execution_count": 6,
   "metadata": {},
   "outputs": [
    {
     "name": "stdout",
     "output_type": "stream",
     "text": [
      "[57, 29, 73, 52, 55, 48, 97, 43, 25, 37]\n"
     ]
    }
   ],
   "source": [
    "import random\n",
    "my_vector = random.sample(range(0,100),10) # 產生十個0~99的隨機數字\n",
    "print(my_vector)"
   ]
  },
  {
   "cell_type": "code",
   "execution_count": 7,
   "metadata": {},
   "outputs": [
    {
     "name": "stdout",
     "output_type": "stream",
     "text": [
      "[64, 5, 35, 68, 71, 2, 97, 56, 9, 22]\n",
      "[2, 5, 9, 22, 35, 56, 64, 68, 71, 97]\n"
     ]
    }
   ],
   "source": [
    "import random\n",
    "def exchange_sort(input_list):\n",
    "    s = input_list\n",
    "    for x in range(0, len(input_list)-1):\n",
    "        for y in range(x+1, len(input_list)):\n",
    "            if s[x] > s[y]:\n",
    "                #交換函數\n",
    "                temp=s[x]\n",
    "                s[x] = s[y]\n",
    "                s[y] = temp\n",
    "    return s\n",
    "my_vector = random.sample(range(0,100), 10)#產生出0~99的隨機數字\n",
    "print(my_vector)\n",
    "print(exchange_sort(my_vector))"
   ]
  },
  {
   "cell_type": "code",
   "execution_count": 11,
   "metadata": {},
   "outputs": [
    {
     "name": "stdout",
     "output_type": "stream",
     "text": [
      "最多: 58 人\n",
      " 最少: 9 人\n",
      " 總共分組 6 組\n",
      " 總共人數: 146 人\n",
      "\n"
     ]
    }
   ],
   "source": [
    "def ironmen_stats(ironmen_list):\n",
    "    max_ironmen = max(ironmen_list)\n",
    "    min_ironmen = min(ironmen_list)\n",
    "    len_ironmen = len(ironmen_list)\n",
    "    sum_ironmen = sum(ironmen_list)\n",
    "    return max_ironmen,min_ironmen,len_ironmen,sum_ironmen\n",
    "ironmen = [58, 10, 21, 17, 31, 9]\n",
    "max_ironmen,min_ironmen,ttl_groups,ttl_ironmen = ironmen_stats(ironmen)\n",
    "\n",
    "print(\"最多:\",max_ironmen,\"人\\n\",\"最少:\",min_ironmen,\"人\\n\",\"總共分組\",ttl_groups,\"組\\n\",\"總共人數:\",ttl_ironmen,\"人\\n\")"
   ]
  },
  {
   "cell_type": "code",
   "execution_count": 2,
   "metadata": {},
   "outputs": [
    {
     "name": "stdout",
     "output_type": "stream",
     "text": [
      "10\n"
     ]
    }
   ],
   "source": [
    "def max(a,b):\n",
    "    return a if a>b else b\n",
    "print(max(10,3))"
   ]
  },
  {
   "cell_type": "markdown",
   "metadata": {},
   "source": [
    "### lambda arg1,arg2...expression"
   ]
  },
  {
   "cell_type": "code",
   "execution_count": 4,
   "metadata": {},
   "outputs": [
    {
     "name": "stdout",
     "output_type": "stream",
     "text": [
      "11\n"
     ]
    }
   ],
   "source": [
    "max = lambda a,b: a if a>b else b  ##只能寫一行\n",
    "print(max(4,11))"
   ]
  },
  {
   "cell_type": "code",
   "execution_count": 6,
   "metadata": {},
   "outputs": [
    {
     "name": "stdout",
     "output_type": "stream",
     "text": [
      "[100  16  32  24  12 124]\n"
     ]
    }
   ],
   "source": [
    "import numpy as np\n",
    "ironmen = np.array([50,8,16,12,6,62])\n",
    "print(ironmen*2)"
   ]
  },
  {
   "cell_type": "code",
   "execution_count": 7,
   "metadata": {},
   "outputs": [
    {
     "name": "stdout",
     "output_type": "stream",
     "text": [
      "[100, 16, 32, 24, 12, 124]\n"
     ]
    }
   ],
   "source": [
    "#lambda寫法\n",
    "#map(func,list) 把list放入function計算\n",
    "#ironmen=[50,8,16,12,6,62]\n",
    "#a=list(map(lambda x: x*2,ironmen))\n",
    "#print(a)\n",
    "print(list(map(lambda x:x*2,[50,8,16,12,6,62])))"
   ]
  },
  {
   "cell_type": "code",
   "execution_count": 11,
   "metadata": {},
   "outputs": [
    {
     "name": "stdout",
     "output_type": "stream",
     "text": [
      "4\n",
      "請輸入數字\n",
      "None\n"
     ]
    }
   ],
   "source": [
    "def my_sq(a):\n",
    "    try:\n",
    "            ans = a**2\n",
    "            return ans\n",
    "    except:\n",
    "        print(\"請輸入數字\")\n",
    "print(my_sq(2))\n",
    "print(my_sq('b'))"
   ]
  },
  {
   "cell_type": "markdown",
   "metadata": {},
   "source": [
    "### python 可以使用args,或者kwargs(帶有鍵值key)來處理彈性數量的輸入"
   ]
  },
  {
   "cell_type": "code",
   "execution_count": 12,
   "metadata": {},
   "outputs": [
    {
     "name": "stdout",
     "output_type": "stream",
     "text": [
      "51\n",
      "8\n",
      "18\n",
      "13\n",
      "6\n"
     ]
    }
   ],
   "source": [
    "# 傳統的寫法\n",
    "def ironmen_print(a):\n",
    "    for i in a:\n",
    "        print(i)\n",
    "ironmen=[51,8,18,13,6]\n",
    "ironmen_print(ironmen)"
   ]
  },
  {
   "cell_type": "code",
   "execution_count": 13,
   "metadata": {},
   "outputs": [
    {
     "name": "stdout",
     "output_type": "stream",
     "text": [
      "51\n",
      "8\n",
      "18\n",
      "13\n",
      "6\n",
      "11\n"
     ]
    }
   ],
   "source": [
    "def ironmen_print(*args):\n",
    "    for i in args:\n",
    "        print(i)\n",
    "ironmen_print(51,8,18,13,6,11)"
   ]
  },
  {
   "cell_type": "code",
   "execution_count": null,
   "metadata": {},
   "outputs": [],
   "source": []
  }
 ],
 "metadata": {
  "kernelspec": {
   "display_name": "Python 3",
   "language": "python",
   "name": "python3"
  },
  "language_info": {
   "codemirror_mode": {
    "name": "ipython",
    "version": 3
   },
   "file_extension": ".py",
   "mimetype": "text/x-python",
   "name": "python",
   "nbconvert_exporter": "python",
   "pygments_lexer": "ipython3",
   "version": "3.7.4"
  }
 },
 "nbformat": 4,
 "nbformat_minor": 2
}

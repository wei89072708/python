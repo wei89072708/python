{
 "cells": [
  {
   "cell_type": "markdown",
   "metadata": {},
   "source": [
    "### iloc 利用索引來篩選資料\n",
    "### loc 利用label來篩選資料"
   ]
  },
  {
   "cell_type": "code",
   "execution_count": 1,
   "metadata": {},
   "outputs": [
    {
     "data": {
      "text/html": [
       "<div>\n",
       "<style scoped>\n",
       "    .dataframe tbody tr th:only-of-type {\n",
       "        vertical-align: middle;\n",
       "    }\n",
       "\n",
       "    .dataframe tbody tr th {\n",
       "        vertical-align: top;\n",
       "    }\n",
       "\n",
       "    .dataframe thead th {\n",
       "        text-align: right;\n",
       "    }\n",
       "</style>\n",
       "<table border=\"1\" class=\"dataframe\">\n",
       "  <thead>\n",
       "    <tr style=\"text-align: right;\">\n",
       "      <th></th>\n",
       "      <th>A</th>\n",
       "      <th>B</th>\n",
       "      <th>C</th>\n",
       "      <th>D</th>\n",
       "    </tr>\n",
       "  </thead>\n",
       "  <tbody>\n",
       "    <tr>\n",
       "      <td>a</td>\n",
       "      <td>0.035708</td>\n",
       "      <td>0.585065</td>\n",
       "      <td>0.502105</td>\n",
       "      <td>0.771851</td>\n",
       "    </tr>\n",
       "    <tr>\n",
       "      <td>b</td>\n",
       "      <td>0.592915</td>\n",
       "      <td>0.753223</td>\n",
       "      <td>0.947097</td>\n",
       "      <td>0.519903</td>\n",
       "    </tr>\n",
       "    <tr>\n",
       "      <td>c</td>\n",
       "      <td>0.544519</td>\n",
       "      <td>0.395945</td>\n",
       "      <td>0.824118</td>\n",
       "      <td>0.965521</td>\n",
       "    </tr>\n",
       "    <tr>\n",
       "      <td>d</td>\n",
       "      <td>0.436013</td>\n",
       "      <td>0.807815</td>\n",
       "      <td>0.172342</td>\n",
       "      <td>0.547456</td>\n",
       "    </tr>\n",
       "  </tbody>\n",
       "</table>\n",
       "</div>"
      ],
      "text/plain": [
       "          A         B         C         D\n",
       "a  0.035708  0.585065  0.502105  0.771851\n",
       "b  0.592915  0.753223  0.947097  0.519903\n",
       "c  0.544519  0.395945  0.824118  0.965521\n",
       "d  0.436013  0.807815  0.172342  0.547456"
      ]
     },
     "execution_count": 1,
     "metadata": {},
     "output_type": "execute_result"
    }
   ],
   "source": [
    "import numpy as np\n",
    "import pandas as pd\n",
    "frame = pd.DataFrame(np.random.rand(4,4), index= list('abcd'), columns=list('ABCD'))\n",
    "frame\n",
    "#  隨機產生DataFrame類型的資料"
   ]
  },
  {
   "cell_type": "code",
   "execution_count": 2,
   "metadata": {},
   "outputs": [
    {
     "data": {
      "text/plain": [
       "0.03570821704358196"
      ]
     },
     "execution_count": 2,
     "metadata": {},
     "output_type": "execute_result"
    }
   ],
   "source": [
    "# 橫的叫列，直的叫欄\n",
    "#.loc先列後欄，中間用逗號（,）分割，例如取 a 和 A 對應的資料\n",
    "frame.loc['a','A']"
   ]
  },
  {
   "cell_type": "code",
   "execution_count": 3,
   "metadata": {},
   "outputs": [
    {
     "data": {
      "text/html": [
       "<div>\n",
       "<style scoped>\n",
       "    .dataframe tbody tr th:only-of-type {\n",
       "        vertical-align: middle;\n",
       "    }\n",
       "\n",
       "    .dataframe tbody tr th {\n",
       "        vertical-align: top;\n",
       "    }\n",
       "\n",
       "    .dataframe thead th {\n",
       "        text-align: right;\n",
       "    }\n",
       "</style>\n",
       "<table border=\"1\" class=\"dataframe\">\n",
       "  <thead>\n",
       "    <tr style=\"text-align: right;\">\n",
       "      <th></th>\n",
       "      <th>A</th>\n",
       "      <th>B</th>\n",
       "      <th>C</th>\n",
       "      <th>D</th>\n",
       "    </tr>\n",
       "  </thead>\n",
       "  <tbody>\n",
       "    <tr>\n",
       "      <td>count</td>\n",
       "      <td>4.000000</td>\n",
       "      <td>4.000000</td>\n",
       "      <td>4.000000</td>\n",
       "      <td>4.000000</td>\n",
       "    </tr>\n",
       "    <tr>\n",
       "      <td>mean</td>\n",
       "      <td>0.402289</td>\n",
       "      <td>0.635512</td>\n",
       "      <td>0.611416</td>\n",
       "      <td>0.701183</td>\n",
       "    </tr>\n",
       "    <tr>\n",
       "      <td>std</td>\n",
       "      <td>0.253039</td>\n",
       "      <td>0.185725</td>\n",
       "      <td>0.347687</td>\n",
       "      <td>0.209255</td>\n",
       "    </tr>\n",
       "    <tr>\n",
       "      <td>min</td>\n",
       "      <td>0.035708</td>\n",
       "      <td>0.395945</td>\n",
       "      <td>0.172342</td>\n",
       "      <td>0.519903</td>\n",
       "    </tr>\n",
       "    <tr>\n",
       "      <td>25%</td>\n",
       "      <td>0.335937</td>\n",
       "      <td>0.537785</td>\n",
       "      <td>0.419665</td>\n",
       "      <td>0.540568</td>\n",
       "    </tr>\n",
       "    <tr>\n",
       "      <td>50%</td>\n",
       "      <td>0.490266</td>\n",
       "      <td>0.669144</td>\n",
       "      <td>0.663112</td>\n",
       "      <td>0.659654</td>\n",
       "    </tr>\n",
       "    <tr>\n",
       "      <td>75%</td>\n",
       "      <td>0.556618</td>\n",
       "      <td>0.766871</td>\n",
       "      <td>0.854863</td>\n",
       "      <td>0.820268</td>\n",
       "    </tr>\n",
       "    <tr>\n",
       "      <td>max</td>\n",
       "      <td>0.592915</td>\n",
       "      <td>0.807815</td>\n",
       "      <td>0.947097</td>\n",
       "      <td>0.965521</td>\n",
       "    </tr>\n",
       "  </tbody>\n",
       "</table>\n",
       "</div>"
      ],
      "text/plain": [
       "              A         B         C         D\n",
       "count  4.000000  4.000000  4.000000  4.000000\n",
       "mean   0.402289  0.635512  0.611416  0.701183\n",
       "std    0.253039  0.185725  0.347687  0.209255\n",
       "min    0.035708  0.395945  0.172342  0.519903\n",
       "25%    0.335937  0.537785  0.419665  0.540568\n",
       "50%    0.490266  0.669144  0.663112  0.659654\n",
       "75%    0.556618  0.766871  0.854863  0.820268\n",
       "max    0.592915  0.807815  0.947097  0.965521"
      ]
     },
     "execution_count": 3,
     "metadata": {},
     "output_type": "execute_result"
    }
   ],
   "source": [
    "frame.describe()"
   ]
  },
  {
   "cell_type": "code",
   "execution_count": 5,
   "metadata": {},
   "outputs": [
    {
     "data": {
      "text/html": [
       "<div>\n",
       "<style scoped>\n",
       "    .dataframe tbody tr th:only-of-type {\n",
       "        vertical-align: middle;\n",
       "    }\n",
       "\n",
       "    .dataframe tbody tr th {\n",
       "        vertical-align: top;\n",
       "    }\n",
       "\n",
       "    .dataframe thead th {\n",
       "        text-align: right;\n",
       "    }\n",
       "</style>\n",
       "<table border=\"1\" class=\"dataframe\">\n",
       "  <thead>\n",
       "    <tr style=\"text-align: right;\">\n",
       "      <th></th>\n",
       "      <th>A</th>\n",
       "      <th>B</th>\n",
       "      <th>C</th>\n",
       "      <th>D</th>\n",
       "    </tr>\n",
       "  </thead>\n",
       "  <tbody>\n",
       "    <tr>\n",
       "      <td>a</td>\n",
       "      <td>0.035708</td>\n",
       "      <td>0.585065</td>\n",
       "      <td>0.502105</td>\n",
       "      <td>0.771851</td>\n",
       "    </tr>\n",
       "    <tr>\n",
       "      <td>b</td>\n",
       "      <td>0.592915</td>\n",
       "      <td>0.753223</td>\n",
       "      <td>0.947097</td>\n",
       "      <td>0.519903</td>\n",
       "    </tr>\n",
       "  </tbody>\n",
       "</table>\n",
       "</div>"
      ],
      "text/plain": [
       "          A         B         C         D\n",
       "a  0.035708  0.585065  0.502105  0.771851\n",
       "b  0.592915  0.753223  0.947097  0.519903"
      ]
     },
     "execution_count": 5,
     "metadata": {},
     "output_type": "execute_result"
    }
   ],
   "source": [
    "#取前兩行對應資料\n",
    "frame.loc['a':'b', :]"
   ]
  },
  {
   "cell_type": "code",
   "execution_count": 6,
   "metadata": {},
   "outputs": [
    {
     "data": {
      "text/html": [
       "<div>\n",
       "<style scoped>\n",
       "    .dataframe tbody tr th:only-of-type {\n",
       "        vertical-align: middle;\n",
       "    }\n",
       "\n",
       "    .dataframe tbody tr th {\n",
       "        vertical-align: top;\n",
       "    }\n",
       "\n",
       "    .dataframe thead th {\n",
       "        text-align: right;\n",
       "    }\n",
       "</style>\n",
       "<table border=\"1\" class=\"dataframe\">\n",
       "  <thead>\n",
       "    <tr style=\"text-align: right;\">\n",
       "      <th></th>\n",
       "      <th>A</th>\n",
       "      <th>B</th>\n",
       "    </tr>\n",
       "  </thead>\n",
       "  <tbody>\n",
       "    <tr>\n",
       "      <td>a</td>\n",
       "      <td>0.035708</td>\n",
       "      <td>0.585065</td>\n",
       "    </tr>\n",
       "    <tr>\n",
       "      <td>b</td>\n",
       "      <td>0.592915</td>\n",
       "      <td>0.753223</td>\n",
       "    </tr>\n",
       "    <tr>\n",
       "      <td>c</td>\n",
       "      <td>0.544519</td>\n",
       "      <td>0.395945</td>\n",
       "    </tr>\n",
       "    <tr>\n",
       "      <td>d</td>\n",
       "      <td>0.436013</td>\n",
       "      <td>0.807815</td>\n",
       "    </tr>\n",
       "  </tbody>\n",
       "</table>\n",
       "</div>"
      ],
      "text/plain": [
       "          A         B\n",
       "a  0.035708  0.585065\n",
       "b  0.592915  0.753223\n",
       "c  0.544519  0.395945\n",
       "d  0.436013  0.807815"
      ]
     },
     "execution_count": 6,
     "metadata": {},
     "output_type": "execute_result"
    }
   ],
   "source": [
    "# 取前兩欄對應資料\n",
    "frame.loc[:,'A':'B']"
   ]
  },
  {
   "cell_type": "code",
   "execution_count": 8,
   "metadata": {},
   "outputs": [
    {
     "name": "stdout",
     "output_type": "stream",
     "text": [
      "          A         B         C         D\n",
      "a  0.035708  0.585065  0.502105  0.771851\n",
      "c  0.544519  0.395945  0.824118  0.965521\n",
      "          A         C\n",
      "a  0.035708  0.502105\n",
      "b  0.592915  0.947097\n",
      "c  0.544519  0.824118\n",
      "d  0.436013  0.172342\n",
      "          A         D\n",
      "a  0.035708  0.771851\n",
      "d  0.436013  0.547456\n"
     ]
    }
   ],
   "source": [
    "# 綜合\n",
    "print(frame.loc[['a','c'],:])\n",
    "print(frame.loc[:, ['A','C']])\n",
    "print(frame.loc[['a','d'],['A','D']])"
   ]
  },
  {
   "cell_type": "code",
   "execution_count": 11,
   "metadata": {},
   "outputs": [
    {
     "data": {
      "text/plain": [
       "0.03570821704358196"
      ]
     },
     "execution_count": 11,
     "metadata": {},
     "output_type": "execute_result"
    }
   ],
   "source": [
    "frame.iloc[0,0]"
   ]
  },
  {
   "cell_type": "code",
   "execution_count": 14,
   "metadata": {},
   "outputs": [
    {
     "data": {
      "text/html": [
       "<div>\n",
       "<style scoped>\n",
       "    .dataframe tbody tr th:only-of-type {\n",
       "        vertical-align: middle;\n",
       "    }\n",
       "\n",
       "    .dataframe tbody tr th {\n",
       "        vertical-align: top;\n",
       "    }\n",
       "\n",
       "    .dataframe thead th {\n",
       "        text-align: right;\n",
       "    }\n",
       "</style>\n",
       "<table border=\"1\" class=\"dataframe\">\n",
       "  <thead>\n",
       "    <tr style=\"text-align: right;\">\n",
       "      <th></th>\n",
       "      <th>A</th>\n",
       "      <th>B</th>\n",
       "      <th>C</th>\n",
       "      <th>D</th>\n",
       "    </tr>\n",
       "  </thead>\n",
       "  <tbody>\n",
       "    <tr>\n",
       "      <td>a</td>\n",
       "      <td>0.035708</td>\n",
       "      <td>0.585065</td>\n",
       "      <td>0.502105</td>\n",
       "      <td>0.771851</td>\n",
       "    </tr>\n",
       "    <tr>\n",
       "      <td>b</td>\n",
       "      <td>0.592915</td>\n",
       "      <td>0.753223</td>\n",
       "      <td>0.947097</td>\n",
       "      <td>0.519903</td>\n",
       "    </tr>\n",
       "  </tbody>\n",
       "</table>\n",
       "</div>"
      ],
      "text/plain": [
       "          A         B         C         D\n",
       "a  0.035708  0.585065  0.502105  0.771851\n",
       "b  0.592915  0.753223  0.947097  0.519903"
      ]
     },
     "execution_count": 14,
     "metadata": {},
     "output_type": "execute_result"
    }
   ],
   "source": [
    "# 取前兩列對應資料\n",
    "frame.iloc[0:2,:]"
   ]
  },
  {
   "cell_type": "code",
   "execution_count": 16,
   "metadata": {},
   "outputs": [
    {
     "name": "stdout",
     "output_type": "stream",
     "text": [
      "          A         B         C         D\n",
      "a  0.035708  0.585065  0.502105  0.771851\n",
      "c  0.544519  0.395945  0.824118  0.965521\n",
      "          A         C\n",
      "a  0.035708  0.502105\n",
      "b  0.592915  0.947097\n",
      "c  0.544519  0.824118\n",
      "d  0.436013  0.172342\n",
      "          A         D\n",
      "a  0.035708  0.771851\n",
      "d  0.436013  0.547456\n"
     ]
    }
   ],
   "source": [
    "# 綜合\n",
    "print(frame.iloc[[0,2],:])\n",
    "print(frame.iloc[:,[0,2]])\n",
    "print(frame.iloc[[0,3],[0,3]])"
   ]
  },
  {
   "cell_type": "code",
   "execution_count": null,
   "metadata": {},
   "outputs": [],
   "source": []
  }
 ],
 "metadata": {
  "kernelspec": {
   "display_name": "Python 3",
   "language": "python",
   "name": "python3"
  },
  "language_info": {
   "codemirror_mode": {
    "name": "ipython",
    "version": 3
   },
   "file_extension": ".py",
   "mimetype": "text/x-python",
   "name": "python",
   "nbconvert_exporter": "python",
   "pygments_lexer": "ipython3",
   "version": "3.7.4"
  }
 },
 "nbformat": 4,
 "nbformat_minor": 2
}
